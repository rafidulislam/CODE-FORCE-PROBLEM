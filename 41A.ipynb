{
  "nbformat": 4,
  "nbformat_minor": 0,
  "metadata": {
    "colab": {
      "name": "41A.ipynb",
      "provenance": [],
      "authorship_tag": "ABX9TyPVelZ1qgkD5ZWZ5is8GFjy",
      "include_colab_link": true
    },
    "kernelspec": {
      "name": "python3",
      "display_name": "Python 3"
    },
    "language_info": {
      "name": "python"
    }
  },
  "cells": [
    {
      "cell_type": "markdown",
      "metadata": {
        "id": "view-in-github",
        "colab_type": "text"
      },
      "source": [
        "<a href=\"https://colab.research.google.com/github/rafidulislam/CODE-FORCE-PROBLEM/blob/main/41A.ipynb\" target=\"_parent\"><img src=\"https://colab.research.google.com/assets/colab-badge.svg\" alt=\"Open In Colab\"/></a>"
      ]
    },
    {
      "cell_type": "code",
      "execution_count": 1,
      "metadata": {
        "colab": {
          "base_uri": "https://localhost:8080/"
        },
        "id": "MMKtExRxvcGx",
        "outputId": "e361cb71-6f88-4dda-8996-3eb49abe7e71"
      },
      "outputs": [
        {
          "output_type": "stream",
          "name": "stdout",
          "text": [
            "code\n",
            "edoc\n",
            "YES\n"
          ]
        }
      ],
      "source": [
        "s=input()\n",
        "t=input()\n",
        "rev =s[::-1]\n",
        "if t==rev:\n",
        "  print('YES')\n",
        "else:\n",
        "  print('NO')"
      ]
    }
  ]
}