{
  "nbformat": 4,
  "nbformat_minor": 0,
  "metadata": {
    "colab": {
      "name": "count duplicate in list and 228A.ipynb",
      "provenance": [],
      "authorship_tag": "ABX9TyNugkVgXbuc9FeuoA6mL1Gl",
      "include_colab_link": true
    },
    "kernelspec": {
      "name": "python3",
      "display_name": "Python 3"
    },
    "language_info": {
      "name": "python"
    }
  },
  "cells": [
    {
      "cell_type": "markdown",
      "metadata": {
        "id": "view-in-github",
        "colab_type": "text"
      },
      "source": [
        "<a href=\"https://colab.research.google.com/github/rafidulislam/CODE-FORCE-PROBLEM/blob/main/count_duplicate_in_list_and_228A.ipynb\" target=\"_parent\"><img src=\"https://colab.research.google.com/assets/colab-badge.svg\" alt=\"Open In Colab\"/></a>"
      ]
    },
    {
      "cell_type": "code",
      "execution_count": 42,
      "metadata": {
        "colab": {
          "base_uri": "https://localhost:8080/"
        },
        "id": "nuRlFr2931Lk",
        "outputId": "f734b32d-d8a3-4e0d-f287-8e06c7930d6e"
      },
      "outputs": [
        {
          "name": "stdout",
          "output_type": "stream",
          "text": [
            "2 2 4  4 6 6 6\n"
          ]
        },
        {
          "output_type": "execute_result",
          "data": {
            "text/plain": [
              "['2', '2', '4', '', '4', '6', '6', '6']"
            ]
          },
          "metadata": {},
          "execution_count": 42
        }
      ],
      "source": [
        "s= input()\n",
        "li= list(s.split(\" \"))"
      ]
    },
    {
      "cell_type": "code",
      "source": [
        "newlist=['he']\n",
        "a=0\n",
        "b=0\n",
        "for i in li:\n",
        "  \n",
        "  for j in newlist:\n",
        "    \n",
        "    if j==i:\n",
        "      a+=1\n",
        "      b+=1\n",
        "      \n",
        "      break\n",
        "    else:\n",
        "      b=0\n",
        "      \n",
        "      \n",
        "  if b==0:\n",
        "    newlist.append(i)\n",
        "print(a)"
      ],
      "metadata": {
        "colab": {
          "base_uri": "https://localhost:8080/"
        },
        "id": "v9Iw9Kj86lVg",
        "outputId": "08acc991-7112-41e1-c002-bb8b933a8e57"
      },
      "execution_count": 43,
      "outputs": [
        {
          "output_type": "stream",
          "name": "stdout",
          "text": [
            "this is i= 2\n",
            "this is j= he\n",
            "['he']\n",
            "this is else\n",
            "this is i= 2\n",
            "this is j= he\n",
            "['he', '2']\n",
            "this is else\n",
            "this is j= 2\n",
            "1\n",
            "this is if\n",
            "this is i= 4\n",
            "this is j= he\n",
            "['he', '2']\n",
            "this is else\n",
            "this is j= 2\n",
            "['he', '2']\n",
            "this is else\n",
            "this is i= \n",
            "this is j= he\n",
            "['he', '2', '4']\n",
            "this is else\n",
            "this is j= 2\n",
            "['he', '2', '4']\n",
            "this is else\n",
            "this is j= 4\n",
            "['he', '2', '4']\n",
            "this is else\n",
            "this is i= 4\n",
            "this is j= he\n",
            "['he', '2', '4', '']\n",
            "this is else\n",
            "this is j= 2\n",
            "['he', '2', '4', '']\n",
            "this is else\n",
            "this is j= 4\n",
            "2\n",
            "this is if\n",
            "this is i= 6\n",
            "this is j= he\n",
            "['he', '2', '4', '']\n",
            "this is else\n",
            "this is j= 2\n",
            "['he', '2', '4', '']\n",
            "this is else\n",
            "this is j= 4\n",
            "['he', '2', '4', '']\n",
            "this is else\n",
            "this is j= \n",
            "['he', '2', '4', '']\n",
            "this is else\n",
            "this is i= 6\n",
            "this is j= he\n",
            "['he', '2', '4', '', '6']\n",
            "this is else\n",
            "this is j= 2\n",
            "['he', '2', '4', '', '6']\n",
            "this is else\n",
            "this is j= 4\n",
            "['he', '2', '4', '', '6']\n",
            "this is else\n",
            "this is j= \n",
            "['he', '2', '4', '', '6']\n",
            "this is else\n",
            "this is j= 6\n",
            "3\n",
            "this is if\n",
            "this is i= 6\n",
            "this is j= he\n",
            "['he', '2', '4', '', '6']\n",
            "this is else\n",
            "this is j= 2\n",
            "['he', '2', '4', '', '6']\n",
            "this is else\n",
            "this is j= 4\n",
            "['he', '2', '4', '', '6']\n",
            "this is else\n",
            "this is j= \n",
            "['he', '2', '4', '', '6']\n",
            "this is else\n",
            "this is j= 6\n",
            "4\n",
            "this is if\n"
          ]
        },
        {
          "output_type": "execute_result",
          "data": {
            "text/plain": [
              "4"
            ]
          },
          "metadata": {},
          "execution_count": 43
        }
      ]
    }
  ]
}