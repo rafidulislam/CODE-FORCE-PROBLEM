{
  "nbformat": 4,
  "nbformat_minor": 0,
  "metadata": {
    "colab": {
      "name": "266B.ipynb",
      "provenance": [],
      "collapsed_sections": [],
      "authorship_tag": "ABX9TyP9j9pEltKIMWieleoan7Xb",
      "include_colab_link": true
    },
    "kernelspec": {
      "name": "python3",
      "display_name": "Python 3"
    },
    "language_info": {
      "name": "python"
    }
  },
  "cells": [
    {
      "cell_type": "markdown",
      "metadata": {
        "id": "view-in-github",
        "colab_type": "text"
      },
      "source": [
        "<a href=\"https://colab.research.google.com/github/rafidulislam/CODE-FORCE-PROBLEM/blob/main/266B.ipynb\" target=\"_parent\"><img src=\"https://colab.research.google.com/assets/colab-badge.svg\" alt=\"Open In Colab\"/></a>"
      ]
    },
    {
      "cell_type": "code",
      "execution_count": null,
      "metadata": {
        "colab": {
          "base_uri": "https://localhost:8080/"
        },
        "id": "3S0pWEpaQ42t",
        "outputId": "b0f2ab47-d27a-44b2-a865-e24664b7c97d"
      },
      "outputs": [
        {
          "output_type": "stream",
          "name": "stdout",
          "text": [
            "5 2\n",
            "BGGBG\n",
            "1\n",
            "4\n",
            "2\n",
            "GGBGB\n"
          ]
        }
      ],
      "source": [
        "\n",
        "# Python program to convert a list to string\n",
        "    \n",
        "# Function to convert  \n",
        "def listToString(s): \n",
        "    \n",
        "    # initialize an empty string\n",
        "    str1 = \"\" \n",
        "    \n",
        "    # traverse in the string  \n",
        "    for ele in s: \n",
        "        str1 += ele  \n",
        "    \n",
        "    # return string  \n",
        "    return str1 \n",
        "n,t=input().split(\" \")\n",
        "t=int(t)\n",
        "n=int(n)\n",
        "#t=int(input())\n",
        "s=input()\n",
        "l=[]\n",
        "for char in s:\n",
        "  l.append(char)\n",
        "\n",
        "for j in range(t):\n",
        "  i=0\n",
        "  while(i<len(l)-1):\n",
        "    if (l[i] == 'B' and l[i+1] == 'G'):\n",
        "      l[i]='G'\n",
        "      l[i+1] = 'B'\n",
        "      i+=1\n",
        "      \n",
        "    i+=1\n",
        "j=listToString(l)\n",
        "print(j)\n"
      ]
    }
  ]
}