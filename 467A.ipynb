{
  "nbformat": 4,
  "nbformat_minor": 0,
  "metadata": {
    "colab": {
      "name": "467A.ipynb",
      "provenance": [],
      "authorship_tag": "ABX9TyN0sCeX4yhHNV/9pvFb7oxQ",
      "include_colab_link": true
    },
    "kernelspec": {
      "name": "python3",
      "display_name": "Python 3"
    },
    "language_info": {
      "name": "python"
    }
  },
  "cells": [
    {
      "cell_type": "markdown",
      "metadata": {
        "id": "view-in-github",
        "colab_type": "text"
      },
      "source": [
        "<a href=\"https://colab.research.google.com/github/rafidulislam/CODE-FORCE-PROBLEM/blob/main/467A.ipynb\" target=\"_parent\"><img src=\"https://colab.research.google.com/assets/colab-badge.svg\" alt=\"Open In Colab\"/></a>"
      ]
    },
    {
      "cell_type": "code",
      "execution_count": 1,
      "metadata": {
        "colab": {
          "base_uri": "https://localhost:8080/"
        },
        "id": "SV0Z2UqeuO-8",
        "outputId": "7a073b42-0dfe-4d8d-8950-b7d7c999204e"
      },
      "outputs": [
        {
          "output_type": "stream",
          "name": "stdout",
          "text": [
            "3\n",
            "1 10\n",
            "0 10\n",
            "10 10\n",
            "2\n"
          ]
        }
      ],
      "source": [
        "n=int(input())\n",
        "w=0\n",
        "for i in range(n):\n",
        "  p,q=input().split(' ')\n",
        "  p=int(p)\n",
        "  q=int(q)\n",
        "  if p+1<q:\n",
        "    w+=1\n",
        "print(w)"
      ]
    }
  ]
}