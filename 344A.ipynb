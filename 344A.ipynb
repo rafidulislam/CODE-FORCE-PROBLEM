{
  "nbformat": 4,
  "nbformat_minor": 0,
  "metadata": {
    "colab": {
      "name": "344A.ipynb",
      "provenance": [],
      "authorship_tag": "ABX9TyNiE11mOz/INVKsWpmJ1XNN",
      "include_colab_link": true
    },
    "kernelspec": {
      "name": "python3",
      "display_name": "Python 3"
    },
    "language_info": {
      "name": "python"
    }
  },
  "cells": [
    {
      "cell_type": "markdown",
      "metadata": {
        "id": "view-in-github",
        "colab_type": "text"
      },
      "source": [
        "<a href=\"https://colab.research.google.com/github/rafidulislam/CODE-FORCE-PROBLEM/blob/main/344A.ipynb\" target=\"_parent\"><img src=\"https://colab.research.google.com/assets/colab-badge.svg\" alt=\"Open In Colab\"/></a>"
      ]
    },
    {
      "cell_type": "code",
      "execution_count": 2,
      "metadata": {
        "colab": {
          "base_uri": "https://localhost:8080/"
        },
        "id": "PGOFN7pZeYKe",
        "outputId": "236398d5-5fa1-4727-e6a9-60b1ca2ea985"
      },
      "outputs": [
        {
          "output_type": "stream",
          "name": "stdout",
          "text": [
            "6\n",
            "10\n",
            "10\n",
            "10\n",
            "01\n",
            "10\n",
            "10\n",
            "3\n"
          ]
        }
      ],
      "source": [
        "n= int (input())\n",
        "s=input()\n",
        "count=1\n",
        "m=s\n",
        "for i in range(n-1):\n",
        "  str=input()\n",
        "  if(m[1]==str[0]):\n",
        "    count+=1  \n",
        "  m=str\n",
        "print(count)"
      ]
    }
  ]
}