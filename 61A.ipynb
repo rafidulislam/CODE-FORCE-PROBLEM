{
  "nbformat": 4,
  "nbformat_minor": 0,
  "metadata": {
    "colab": {
      "name": "61A.ipynb",
      "provenance": [],
      "authorship_tag": "ABX9TyNi59GjxuWhDQqLMNnLRAT7",
      "include_colab_link": true
    },
    "kernelspec": {
      "name": "python3",
      "display_name": "Python 3"
    },
    "language_info": {
      "name": "python"
    }
  },
  "cells": [
    {
      "cell_type": "markdown",
      "metadata": {
        "id": "view-in-github",
        "colab_type": "text"
      },
      "source": [
        "<a href=\"https://colab.research.google.com/github/rafidulislam/CODE-FORCE-PROBLEM/blob/main/61A.ipynb\" target=\"_parent\"><img src=\"https://colab.research.google.com/assets/colab-badge.svg\" alt=\"Open In Colab\"/></a>"
      ]
    },
    {
      "cell_type": "code",
      "execution_count": 4,
      "metadata": {
        "colab": {
          "base_uri": "https://localhost:8080/"
        },
        "id": "JRzPh5ZtXgwU",
        "outputId": "1ed15683-485b-4ced-f146-187687488639"
      },
      "outputs": [
        {
          "output_type": "stream",
          "name": "stdout",
          "text": [
            "1111\n",
            "0101\n",
            "1010\n"
          ]
        }
      ],
      "source": [
        "a = input()\n",
        "b = input()\n",
        "s=\"\"\n",
        "for i in range(len(a)):\n",
        "  if(a[i]==b[i]):\n",
        "    s+=\"0\"\n",
        "  else:\n",
        "    s+=\"1\"\n",
        "print(s)"
      ]
    }
  ]
}